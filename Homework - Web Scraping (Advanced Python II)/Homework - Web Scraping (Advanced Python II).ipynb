{
 "cells": [
  {
   "cell_type": "code",
   "execution_count": 12,
   "id": "875596f6-cdda-4634-b298-477f1150ae15",
   "metadata": {},
   "outputs": [
    {
     "ename": "SyntaxError",
     "evalue": "invalid syntax (Temp/ipykernel_16440/3787341369.py, line 33)",
     "output_type": "error",
     "traceback": [
      "\u001b[1;36m  File \u001b[1;32m\"C:\\Users\\anggo\\AppData\\Local\\Temp/ipykernel_16440/3787341369.py\"\u001b[1;36m, line \u001b[1;32m33\u001b[0m\n\u001b[1;33m    dfn.to_csv('homework_anggoletomi_orami.csv')\u001b[0m\n\u001b[1;37m    ^\u001b[0m\n\u001b[1;31mSyntaxError\u001b[0m\u001b[1;31m:\u001b[0m invalid syntax\n"
     ]
    }
   ],
   "source": [
    "import urllib, requests, urllib.request, json, timeit, pandas as pd, csv\n",
    "from bs4 import BeautifulSoup\n",
    "\n",
    "ecomm_url = 'https://marketplace.orami.co.id/catalog/products/?category=elektronik-rumah-tangga&page=2&page_size=20&price_gte=1&show_watchlist=1'\n",
    "\n",
    "r = requests.get(ecomm_url)\n",
    "print(r)\n",
    "\n",
    "dfn = pd.DataFrame()\n",
    "\n",
    "with urllib.request.urlopen(ecomm_url) as url:\n",
    "    data_ecomm = json.loads(url.read().decode())\n",
    "    data_items = data_ecomm.items()\n",
    "    data_list = list(data_items)\n",
    "    df = pd.DataFrame(data_list)\n",
    "    df = df.transpose()\n",
    "    \n",
    "    #mengganti nama kolom dengan row index 0\n",
    "    df.columns = df.iloc[0]\n",
    "    df = df.drop(index=0)\n",
    "    \n",
    "    #filter kolom results (karena kolom ini yang mengandung nama produk dan harga)\n",
    "    df = pd.DataFrame(df['results'])\n",
    "    df = pd.DataFrame(df['results'].values.tolist())\n",
    "\n",
    "#looping setiap kolom\n",
    "for i in range(0,19):\n",
    "    df_copy = pd.DataFrame(df[i].values.tolist())\n",
    "    dfn = dfn.append(df_copy,ignore_index=True)\n",
    "\n",
    "dfn = dfn[['sku','name','brand_name','category_name','available_prioritized_price']]\n",
    "    \n",
    "dfn.to_excel('homework_anggoletomi_orami.xlsx',index=False)"
   ]
  }
 ],
 "metadata": {
  "kernelspec": {
   "display_name": "Python 3 (ipykernel)",
   "language": "python",
   "name": "python3"
  },
  "language_info": {
   "codemirror_mode": {
    "name": "ipython",
    "version": 3
   },
   "file_extension": ".py",
   "mimetype": "text/x-python",
   "name": "python",
   "nbconvert_exporter": "python",
   "pygments_lexer": "ipython3",
   "version": "3.9.7"
  }
 },
 "nbformat": 4,
 "nbformat_minor": 5
}
